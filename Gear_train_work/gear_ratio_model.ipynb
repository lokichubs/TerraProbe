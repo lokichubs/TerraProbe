{
 "cells": [
  {
   "cell_type": "code",
   "execution_count": 1,
   "metadata": {},
   "outputs": [],
   "source": [
    "import math"
   ]
  },
  {
   "cell_type": "markdown",
   "metadata": {},
   "source": [
    "# Gear Parameters"
   ]
  },
  {
   "cell_type": "code",
   "execution_count": 8,
   "metadata": {},
   "outputs": [
    {
     "name": "stdout",
     "output_type": "stream",
     "text": [
      "The minimum number of tooth on the pinion is 15.00\n",
      "It follows that the gear would has a minimum of  45.00\n"
     ]
    }
   ],
   "source": [
    "e = 1/3\n",
    "e_inv = 1/e\n",
    "\n",
    "w_in = 100\n",
    "w_out = w_in*e_inv\n",
    "\n",
    "# 1.00 inch wide set\n",
    "d_p_1 = 1.00 * 0.0254\n",
    "d_g_1 = 4.00 * 0.0254\n",
    "\n",
    "phi_1 = 20*math.pi/180\n",
    "\n",
    "Np_min_1 = (2/((1+2*e_inv)*(math.sin(phi_1))**2))*(e_inv+ (e_inv**2 + ((1+2*e_inv)*(math.sin(phi_1))**2))**0.5) #(b)\n",
    "Ng_min_1 = e_inv*math.ceil(Np_min_1)\n",
    "print(\"The minimum number of tooth on the pinion is {:.2f}\".format(math.ceil(Np_min_1)))\n",
    "print(\"It follows that the gear would has a minimum of  {:.2f}\".format(math.ceil(Ng_min_1)))\n",
    "\n",
    "\n"
   ]
  }
 ],
 "metadata": {
  "kernelspec": {
   "display_name": "base",
   "language": "python",
   "name": "python3"
  },
  "language_info": {
   "codemirror_mode": {
    "name": "ipython",
    "version": 3
   },
   "file_extension": ".py",
   "mimetype": "text/x-python",
   "name": "python",
   "nbconvert_exporter": "python",
   "pygments_lexer": "ipython3",
   "version": "3.12.4"
  }
 },
 "nbformat": 4,
 "nbformat_minor": 2
}
