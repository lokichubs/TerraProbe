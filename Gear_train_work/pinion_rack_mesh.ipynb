{
 "cells": [
  {
   "cell_type": "code",
   "execution_count": 2,
   "metadata": {},
   "outputs": [],
   "source": [
    "import math"
   ]
  },
  {
   "cell_type": "markdown",
   "metadata": {},
   "source": [
    "# Desired Gear Parameters"
   ]
  },
  {
   "cell_type": "code",
   "execution_count": 5,
   "metadata": {},
   "outputs": [
    {
     "name": "stdout",
     "output_type": "stream",
     "text": [
      "27.5\n"
     ]
    }
   ],
   "source": [
    "#Required Gear Ratio\n",
    "e = 1/4\n",
    "e_inv = 4\n",
    "\n",
    "#DC-motors 12VDC 4.8A 4000rpm 35W\n",
    "#Product name: 987-5025F-C | SKU: 15987004\n",
    "H = 35*(1/750) \n",
    "w_in = 110\n",
    "w_out = w_in*e\n",
    "print(w_out)\n",
    "\n",
    "# Diameters in inches\n",
    "d_p = 1.00\n",
    "\n",
    "#Contact Ratio\n",
    "k = 1 \n",
    "\n",
    "phi = 20*math.pi/180\n"
   ]
  },
  {
   "cell_type": "markdown",
   "metadata": {},
   "source": [
    "# Required Parameter Calculations"
   ]
  },
  {
   "cell_type": "code",
   "execution_count": 7,
   "metadata": {},
   "outputs": [
    {
     "name": "stdout",
     "output_type": "stream",
     "text": [
      "The minimum number of tooth on the pinion is 18.00\n",
      "The diameteral pitch of the pinion and rack are 18.00 are 12.00\n",
      "The pitch line velocity in the pinion gear mesh is 7.20 ft/min\n",
      "The tangential load on the pinion rack mesh is 213.90 lbf or 958.29 N\n",
      "The minimum face widths of the pinion and the rack are  0.56 in and 0.83 in respectively\n"
     ]
    }
   ],
   "source": [
    "Np_min = (2*(k)/(math.sin(phi)**2))\n",
    "print(\"The minimum number of tooth on the pinion is {:.2f}\".format(math.ceil(Np_min)))\n",
    "\n",
    "#Actual Values used (Table 13-3)\n",
    "N_p = math.ceil(Np_min)\n",
    "\n",
    "P_r = 12 # From McMaster for rack 5174T3\n",
    "P_p = N_p/d_p\n",
    "\n",
    "mg = N_p/P_r\n",
    "\n",
    "print(f\"The diameteral pitch of the pinion and rack are {P_p:.2f} are {P_r:.2f}\")\n",
    "\n",
    "V = math.pi*d_p*w_out/12\n",
    "print(\"The pitch line velocity in the pinion gear mesh is {:.2f} ft/min\".format(V))\n",
    "\n",
    "W = 33000*H/V\n",
    "print(\"The tangential load on the pinion rack mesh is {:.2f} lbf or {:.2f} N\".format(W,W*4.48))\n",
    "\n",
    "\n",
    "#Used (Table 13-3) \n",
    "F_p = 10.0/P_p\n",
    "F_r = 10.0/P_r\n",
    "print(\"The minimum face widths of the pinion and the rack are  {:.2f} in and {:.2f} in respectively\".format(F_p,F_r))#(d)"
   ]
  },
  {
   "cell_type": "markdown",
   "metadata": {},
   "source": [
    "# Gear Faliure Mechanism Parameters"
   ]
  },
  {
   "cell_type": "code",
   "execution_count": null,
   "metadata": {},
   "outputs": [
    {
     "name": "stdout",
     "output_type": "stream",
     "text": [
      "Maximum Wear Stress 148408.32 psi\n",
      "Factor of Safety for Wear 2.07\n",
      "Maximum Bending Stress 37857.65 psi\n",
      "Factor of Safety for Bending 2.16\n"
     ]
    }
   ],
   "source": [
    "# Face width of gear\n",
    "F = 1.00\n",
    "\n",
    "#Reliability\n",
    "R = 0.99 #Percentage\n",
    "L = 45 #hrs\n",
    "N = w_out*60*L #Number of revolutions\n",
    "\n",
    "#Variables for K_v (Dynamic Factor Calculation)\n",
    "Qv = 7 #Quality Factor according to AINSI/AGMA standards\n",
    "B = 0.25*(12-Qv)**(2/3)\n",
    "A = 56 + 56*(1-B)\n",
    "Kv = ((A+(V)**(1/2))/A)**B #Eq 14-27\n",
    "\n",
    "\n",
    "Ko = 1  #ANSI uniform loading - Overload factor (Fig 14-18)\n",
    "Ks = 1  #ANSI standard - Size factor (Sec 14-10)\n",
    "\n",
    "#Load distribution factor (Km calculation)\n",
    "Cmc = 1 #uncrowned teeth (Eq 14-31)\n",
    "Cpf = (F/(10*d_p))-0.025 # (Eq 14-32)\n",
    "Cpm = 1 #Eq (14-33)\n",
    "# (Table 14-9)\n",
    "Am = 0.127\n",
    "Bm = 0.0158\n",
    "Cm = 0.930*(10**-4)\n",
    "Cma = Am + Bm*F - Cm*(F**2) #Eq 14-34 - Commercially Enclosed Gear\n",
    "Ce = 1 #Eq 14-35\n",
    "Km =  1 + Cmc*(Cpf*Cpm + Cma*Ce) #(Eq 14 -30)\n",
    "\n",
    "#Rim thickness factor\n",
    "ht = 0.21 # Teeth Height\n",
    "tr = 0.125 # Rim thickness\n",
    "mb = tr/ht # backup-ratio\n",
    "Kb = 1.6*math.log(2.242/mb) #Eq 14-40\n",
    "\n",
    "#Diameteral Pitch\n",
    "Pd = N_p/d_p\n",
    "\n",
    "# Coefficient of friction\n",
    "Cf = 1 #Figure 14-18\n",
    "\n",
    "# Elastic Coefficient\n",
    "Cp = 2300 #Table 14-8\n",
    "\n",
    "#Geometry factors\n",
    "mg = P_r/N_p #gear ratio\n",
    "mn = 1  #load sharing ratio (Eq 14-21)\n",
    "I = math.cos(phi)*math.sin(phi)*mg/(2*mg + 2) #Eq 14-23 (mg=mn)\n",
    "J = 0.27 #Fig 14-6\n",
    "\n",
    "#Based on similar hardness (if we use steel hardened and carburized - Grade 3)\n",
    "Sc = 275000 # Table 14-6\n",
    "St = 75000 # Table 14-3\n",
    "\n",
    "#Stress Cycle Factors\n",
    "YN = 1.3358*(N**-0.0178) #Fig 14-14\n",
    "ZN =1.4488*(N**-0.023) #Fig 14-15\n",
    "\n",
    "#Hardness ratio factor for pinion\n",
    "CH = 1 #Section 14-12\n",
    "\n",
    "#Teperature factor\n",
    "Kt = 1 #T<250 F\n",
    "#Reliability Factor\n",
    "Kr = 0.5 - 0.109*math.log(1-R) #Eq 14-38\n",
    "\n",
    "#Wear\n",
    "sig_c = Cp*(W*Kv*Ks*Ko*(Km/(F*d_p))*(Cf/I))**(0.5)\n",
    "Sh = Sc*ZN*CH/(Kt*Kr*sig_c)\n",
    "print (f\"Maximum Wear Stress {sig_c:.2f} psi\")\n",
    "print(f\"Factor of Safety for Wear {Sh:.2f}\")\n",
    "\n",
    "#Bending\n",
    "sig = W*Kv*Ks*Ko*(Pd/F)*(Km*Kb/J)\n",
    "Sf = St*YN/(Kt*Kr*sig)\n",
    "print (f\"Maximum Bending Stress {sig:.2f} psi\")\n",
    "print(f\"Factor of Safety for Bending {Sf:.2f}\")\n"
   ]
  }
 ],
 "metadata": {
  "kernelspec": {
   "display_name": "base",
   "language": "python",
   "name": "python3"
  },
  "language_info": {
   "codemirror_mode": {
    "name": "ipython",
    "version": 3
   },
   "file_extension": ".py",
   "mimetype": "text/x-python",
   "name": "python",
   "nbconvert_exporter": "python",
   "pygments_lexer": "ipython3",
   "version": "3.12.4"
  }
 },
 "nbformat": 4,
 "nbformat_minor": 2
}
