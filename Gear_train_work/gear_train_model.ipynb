{
 "cells": [
  {
   "cell_type": "code",
   "execution_count": 2,
   "metadata": {},
   "outputs": [],
   "source": [
    "import math"
   ]
  },
  {
   "cell_type": "markdown",
   "metadata": {},
   "source": [
    "# Desired Gear Parameters"
   ]
  },
  {
   "cell_type": "code",
   "execution_count": 19,
   "metadata": {},
   "outputs": [],
   "source": [
    "#Required Gear Ratio\n",
    "e = 1/4\n",
    "e_inv = 1/e\n",
    "\n",
    "#Horsepower\n",
    "H = 45*(1/750) \n",
    "\n",
    "w_in = 110\n",
    "w_out = w_in*e_inv\n",
    "\n",
    "# Diameters in inches\n",
    "d_p = 1.00\n",
    "d_g = 4.00\n",
    "\n",
    "phi = 20*math.pi/180\n"
   ]
  },
  {
   "cell_type": "markdown",
   "metadata": {},
   "source": [
    "# Required Parameter Calculations"
   ]
  },
  {
   "cell_type": "code",
   "execution_count": 22,
   "metadata": {},
   "outputs": [
    {
     "name": "stdout",
     "output_type": "stream",
     "text": [
      "The minimum number of tooth on the pinion is 16.00\n",
      "It follows that the gear would has a minimum of  64.00\n",
      "The pitch line velocity in the pinion gear mesh is 28.80 ft/min\n",
      "The pitch line velocity in the pinion rack mesh is 7.20 ft/min\n",
      "The tangential load on the gear pinion mesh is 68.75 lbf\n",
      "The tangential load on the pinion rack mesh is 275.02 lbf\n",
      "The face widths of the pinion and the gear are  0.78 in and 0.78 in respectively\n",
      "The time taken for the rack to move down to 18 inches is : 12.50 seconds\n"
     ]
    }
   ],
   "source": [
    "\n",
    "Np_min = (2/((1+2*e_inv)*(math.sin(phi))**2))*(e_inv+ (e_inv**2 + ((1+2*e_inv)*(math.sin(phi))**2))**0.5)\n",
    "Ng_min = e_inv*math.ceil(Np_min)\n",
    "print(\"The minimum number of tooth on the pinion is {:.2f}\".format(math.ceil(Np_min)))\n",
    "print(\"It follows that the gear would has a minimum of  {:.2f}\".format(math.ceil(Ng_min)))\n",
    "\n",
    "#Actual Values used (Table 13-3)\n",
    "N_p = math.ceil(Np_min)\n",
    "N_g = Ng_min\n",
    "\n",
    "P_p = N_p/d_p\n",
    "P_g = N_g/d_g\n",
    "\n",
    "V = math.pi*d_p*w_in/12\n",
    "print(\"The pitch line velocity in the pinion gear mesh is {:.2f} ft/min\".format(V))\n",
    "print(\"The pitch line velocity in the pinion rack mesh is {:.2f} ft/min\".format(V/4))\n",
    "\n",
    "W = 33000*H/V\n",
    "print(\"The tangential load on the gear pinion mesh is {:.2f} lbf\".format(W))\n",
    "print(\"The tangential load on the pinion rack mesh is {:.2f} lbf\".format(W*4))\n",
    "\n",
    "#Used (Table 13-3) \n",
    "Fp = 12.5/P_p\n",
    "Fg = 12.5/P_g\n",
    "print(\"The face widths of the pinion and the gear are  {:.2f} in and {:.2f} in respectively\".format(Fp,Fg))#(d)\n",
    "print(\"The time taken for the rack to move down to 18 inches is : {:.2f} seconds\".format(1.5*60/(V/4)))"
   ]
  },
  {
   "cell_type": "markdown",
   "metadata": {},
   "source": [
    "# Gear Faliure Mechanism Parameters"
   ]
  },
  {
   "cell_type": "code",
   "execution_count": 23,
   "metadata": {},
   "outputs": [
    {
     "name": "stdout",
     "output_type": "stream",
     "text": [
      "297000\n"
     ]
    }
   ],
   "source": [
    "# Face width of gear\n",
    "F = 0.75\n",
    "\n",
    "#Reliability\n",
    "R = 0.999 #Percentage\n",
    "L = 45 #hrs\n",
    "N = 110*60*L #Number of revolutions\n",
    "\n",
    "#Variables for K_v (Dynamic Factor Calculation)\n",
    "#Quality Factor according to AINSI/AGMA standards\n",
    "Qv = 7\n",
    "B = 0.25*(12-Qv)**(2/3)\n",
    "A = 56 + 56*(1-B)\n"
   ]
  }
 ],
 "metadata": {
  "kernelspec": {
   "display_name": "base",
   "language": "python",
   "name": "python3"
  },
  "language_info": {
   "codemirror_mode": {
    "name": "ipython",
    "version": 3
   },
   "file_extension": ".py",
   "mimetype": "text/x-python",
   "name": "python",
   "nbconvert_exporter": "python",
   "pygments_lexer": "ipython3",
   "version": "3.12.4"
  }
 },
 "nbformat": 4,
 "nbformat_minor": 2
}
